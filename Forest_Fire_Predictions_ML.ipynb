{
 "cells": [
  {
   "cell_type": "markdown",
   "metadata": {},
   "source": [
    "### Importing libraries"
   ]
  },
  {
   "cell_type": "code",
   "execution_count": 1,
   "metadata": {},
   "outputs": [],
   "source": [
    "# datetime library to deal with dates\n",
    "import datetime as dt\n",
    "\n",
    "# for plots (heatmap)\n",
    "import seaborn as sns\n",
    "import matplotlib.pyplot as plt\n",
    "%matplotlib inline \n",
    "\n",
    "# pandas for dataframe\n",
    "import pandas as pd\n",
    "import numpy as np"
   ]
  },
  {
   "cell_type": "markdown",
   "metadata": {},
   "source": [
    "### Reading forest fire exploration dataset (.csv)"
   ]
  },
  {
   "cell_type": "code",
   "execution_count": 2,
   "metadata": {},
   "outputs": [],
   "source": [
    "forest = pd.read_csv('fire_archive.csv')"
   ]
  },
  {
   "cell_type": "code",
   "execution_count": 3,
   "metadata": {},
   "outputs": [
    {
     "data": {
      "text/html": [
       "<div>\n",
       "<style scoped>\n",
       "    .dataframe tbody tr th:only-of-type {\n",
       "        vertical-align: middle;\n",
       "    }\n",
       "\n",
       "    .dataframe tbody tr th {\n",
       "        vertical-align: top;\n",
       "    }\n",
       "\n",
       "    .dataframe thead th {\n",
       "        text-align: right;\n",
       "    }\n",
       "</style>\n",
       "<table border=\"1\" class=\"dataframe\">\n",
       "  <thead>\n",
       "    <tr style=\"text-align: right;\">\n",
       "      <th></th>\n",
       "      <th>latitude</th>\n",
       "      <th>longitude</th>\n",
       "      <th>brightness</th>\n",
       "      <th>scan</th>\n",
       "      <th>track</th>\n",
       "      <th>acq_date</th>\n",
       "      <th>acq_time</th>\n",
       "      <th>satellite</th>\n",
       "      <th>instrument</th>\n",
       "      <th>confidence</th>\n",
       "      <th>version</th>\n",
       "      <th>bright_t31</th>\n",
       "      <th>frp</th>\n",
       "      <th>daynight</th>\n",
       "      <th>type</th>\n",
       "    </tr>\n",
       "  </thead>\n",
       "  <tbody>\n",
       "    <tr>\n",
       "      <th>0</th>\n",
       "      <td>-11.8070</td>\n",
       "      <td>142.0583</td>\n",
       "      <td>313.0</td>\n",
       "      <td>1.0</td>\n",
       "      <td>1.0</td>\n",
       "      <td>2019-08-01</td>\n",
       "      <td>56</td>\n",
       "      <td>Terra</td>\n",
       "      <td>MODIS</td>\n",
       "      <td>48</td>\n",
       "      <td>6.3</td>\n",
       "      <td>297.3</td>\n",
       "      <td>6.6</td>\n",
       "      <td>D</td>\n",
       "      <td>0</td>\n",
       "    </tr>\n",
       "    <tr>\n",
       "      <th>1</th>\n",
       "      <td>-11.7924</td>\n",
       "      <td>142.0850</td>\n",
       "      <td>319.3</td>\n",
       "      <td>1.0</td>\n",
       "      <td>1.0</td>\n",
       "      <td>2019-08-01</td>\n",
       "      <td>56</td>\n",
       "      <td>Terra</td>\n",
       "      <td>MODIS</td>\n",
       "      <td>71</td>\n",
       "      <td>6.3</td>\n",
       "      <td>297.3</td>\n",
       "      <td>11.3</td>\n",
       "      <td>D</td>\n",
       "      <td>0</td>\n",
       "    </tr>\n",
       "    <tr>\n",
       "      <th>2</th>\n",
       "      <td>-12.8398</td>\n",
       "      <td>132.8744</td>\n",
       "      <td>311.6</td>\n",
       "      <td>3.1</td>\n",
       "      <td>1.7</td>\n",
       "      <td>2019-08-01</td>\n",
       "      <td>57</td>\n",
       "      <td>Terra</td>\n",
       "      <td>MODIS</td>\n",
       "      <td>42</td>\n",
       "      <td>6.3</td>\n",
       "      <td>298.7</td>\n",
       "      <td>23.1</td>\n",
       "      <td>D</td>\n",
       "      <td>0</td>\n",
       "    </tr>\n",
       "    <tr>\n",
       "      <th>3</th>\n",
       "      <td>-14.4306</td>\n",
       "      <td>143.3035</td>\n",
       "      <td>310.1</td>\n",
       "      <td>1.1</td>\n",
       "      <td>1.1</td>\n",
       "      <td>2019-08-01</td>\n",
       "      <td>57</td>\n",
       "      <td>Terra</td>\n",
       "      <td>MODIS</td>\n",
       "      <td>33</td>\n",
       "      <td>6.3</td>\n",
       "      <td>296.1</td>\n",
       "      <td>6.5</td>\n",
       "      <td>D</td>\n",
       "      <td>0</td>\n",
       "    </tr>\n",
       "    <tr>\n",
       "      <th>4</th>\n",
       "      <td>-12.4953</td>\n",
       "      <td>131.4897</td>\n",
       "      <td>310.3</td>\n",
       "      <td>4.0</td>\n",
       "      <td>1.9</td>\n",
       "      <td>2019-08-01</td>\n",
       "      <td>57</td>\n",
       "      <td>Terra</td>\n",
       "      <td>MODIS</td>\n",
       "      <td>36</td>\n",
       "      <td>6.3</td>\n",
       "      <td>298.8</td>\n",
       "      <td>27.6</td>\n",
       "      <td>D</td>\n",
       "      <td>0</td>\n",
       "    </tr>\n",
       "  </tbody>\n",
       "</table>\n",
       "</div>"
      ],
      "text/plain": [
       "   latitude  longitude  brightness  scan  track    acq_date  acq_time  \\\n",
       "0  -11.8070   142.0583       313.0   1.0    1.0  2019-08-01        56   \n",
       "1  -11.7924   142.0850       319.3   1.0    1.0  2019-08-01        56   \n",
       "2  -12.8398   132.8744       311.6   3.1    1.7  2019-08-01        57   \n",
       "3  -14.4306   143.3035       310.1   1.1    1.1  2019-08-01        57   \n",
       "4  -12.4953   131.4897       310.3   4.0    1.9  2019-08-01        57   \n",
       "\n",
       "  satellite instrument  confidence  version  bright_t31   frp daynight  type  \n",
       "0     Terra      MODIS          48      6.3       297.3   6.6        D     0  \n",
       "1     Terra      MODIS          71      6.3       297.3  11.3        D     0  \n",
       "2     Terra      MODIS          42      6.3       298.7  23.1        D     0  \n",
       "3     Terra      MODIS          33      6.3       296.1   6.5        D     0  \n",
       "4     Terra      MODIS          36      6.3       298.8  27.6        D     0  "
      ]
     },
     "execution_count": 3,
     "metadata": {},
     "output_type": "execute_result"
    }
   ],
   "source": [
    "forest.head()"
   ]
  },
  {
   "cell_type": "markdown",
   "metadata": {},
   "source": [
    "### Data exploration"
   ]
  },
  {
   "cell_type": "code",
   "execution_count": 4,
   "metadata": {},
   "outputs": [
    {
     "data": {
      "text/plain": [
       "(36011, 15)"
      ]
     },
     "execution_count": 4,
     "metadata": {},
     "output_type": "execute_result"
    }
   ],
   "source": [
    "# (rows, columns)\n",
    "forest.shape"
   ]
  },
  {
   "cell_type": "code",
   "execution_count": 5,
   "metadata": {},
   "outputs": [
    {
     "data": {
      "text/plain": [
       "Index(['latitude', 'longitude', 'brightness', 'scan', 'track', 'acq_date',\n",
       "       'acq_time', 'satellite', 'instrument', 'confidence', 'version',\n",
       "       'bright_t31', 'frp', 'daynight', 'type'],\n",
       "      dtype='object')"
      ]
     },
     "execution_count": 5,
     "metadata": {},
     "output_type": "execute_result"
    }
   ],
   "source": [
    "# available column headers\n",
    "forest.columns"
   ]
  },
  {
   "cell_type": "code",
   "execution_count": 6,
   "metadata": {},
   "outputs": [
    {
     "data": {
      "text/plain": [
       "latitude      0\n",
       "longitude     0\n",
       "brightness    0\n",
       "scan          0\n",
       "track         0\n",
       "acq_date      0\n",
       "acq_time      0\n",
       "satellite     0\n",
       "instrument    0\n",
       "confidence    0\n",
       "version       0\n",
       "bright_t31    0\n",
       "frp           0\n",
       "daynight      0\n",
       "type          0\n",
       "dtype: int64"
      ]
     },
     "execution_count": 6,
     "metadata": {},
     "output_type": "execute_result"
    }
   ],
   "source": [
    "#  checking for null values\n",
    "forest.isnull().sum()"
   ]
  },
  {
   "cell_type": "code",
   "execution_count": 7,
   "metadata": {},
   "outputs": [
    {
     "data": {
      "text/html": [
       "<div>\n",
       "<style scoped>\n",
       "    .dataframe tbody tr th:only-of-type {\n",
       "        vertical-align: middle;\n",
       "    }\n",
       "\n",
       "    .dataframe tbody tr th {\n",
       "        vertical-align: top;\n",
       "    }\n",
       "\n",
       "    .dataframe thead th {\n",
       "        text-align: right;\n",
       "    }\n",
       "</style>\n",
       "<table border=\"1\" class=\"dataframe\">\n",
       "  <thead>\n",
       "    <tr style=\"text-align: right;\">\n",
       "      <th></th>\n",
       "      <th>latitude</th>\n",
       "      <th>longitude</th>\n",
       "      <th>brightness</th>\n",
       "      <th>scan</th>\n",
       "      <th>track</th>\n",
       "      <th>acq_time</th>\n",
       "      <th>confidence</th>\n",
       "      <th>version</th>\n",
       "      <th>bright_t31</th>\n",
       "      <th>frp</th>\n",
       "      <th>type</th>\n",
       "    </tr>\n",
       "  </thead>\n",
       "  <tbody>\n",
       "    <tr>\n",
       "      <th>count</th>\n",
       "      <td>36011.000000</td>\n",
       "      <td>36011.000000</td>\n",
       "      <td>36011.000000</td>\n",
       "      <td>36011.000000</td>\n",
       "      <td>36011.000000</td>\n",
       "      <td>36011.000000</td>\n",
       "      <td>36011.000000</td>\n",
       "      <td>3.601100e+04</td>\n",
       "      <td>36011.000000</td>\n",
       "      <td>36011.000000</td>\n",
       "      <td>36011.000000</td>\n",
       "    </tr>\n",
       "    <tr>\n",
       "      <th>mean</th>\n",
       "      <td>-19.100962</td>\n",
       "      <td>138.931446</td>\n",
       "      <td>328.750696</td>\n",
       "      <td>1.620905</td>\n",
       "      <td>1.215281</td>\n",
       "      <td>600.025798</td>\n",
       "      <td>67.551387</td>\n",
       "      <td>6.300000e+00</td>\n",
       "      <td>301.339138</td>\n",
       "      <td>51.132176</td>\n",
       "      <td>0.019439</td>\n",
       "    </tr>\n",
       "    <tr>\n",
       "      <th>std</th>\n",
       "      <td>7.265777</td>\n",
       "      <td>9.261400</td>\n",
       "      <td>18.992808</td>\n",
       "      <td>0.813764</td>\n",
       "      <td>0.247852</td>\n",
       "      <td>548.369111</td>\n",
       "      <td>23.179946</td>\n",
       "      <td>3.728625e-12</td>\n",
       "      <td>9.724462</td>\n",
       "      <td>92.280112</td>\n",
       "      <td>0.198326</td>\n",
       "    </tr>\n",
       "    <tr>\n",
       "      <th>min</th>\n",
       "      <td>-42.762800</td>\n",
       "      <td>114.104300</td>\n",
       "      <td>300.000000</td>\n",
       "      <td>1.000000</td>\n",
       "      <td>1.000000</td>\n",
       "      <td>0.000000</td>\n",
       "      <td>0.000000</td>\n",
       "      <td>6.300000e+00</td>\n",
       "      <td>267.000000</td>\n",
       "      <td>0.000000</td>\n",
       "      <td>0.000000</td>\n",
       "    </tr>\n",
       "    <tr>\n",
       "      <th>25%</th>\n",
       "      <td>-26.370250</td>\n",
       "      <td>131.072250</td>\n",
       "      <td>316.500000</td>\n",
       "      <td>1.100000</td>\n",
       "      <td>1.000000</td>\n",
       "      <td>205.000000</td>\n",
       "      <td>52.000000</td>\n",
       "      <td>6.300000e+00</td>\n",
       "      <td>293.600000</td>\n",
       "      <td>13.800000</td>\n",
       "      <td>0.000000</td>\n",
       "    </tr>\n",
       "    <tr>\n",
       "      <th>50%</th>\n",
       "      <td>-15.706500</td>\n",
       "      <td>136.738500</td>\n",
       "      <td>326.400000</td>\n",
       "      <td>1.300000</td>\n",
       "      <td>1.100000</td>\n",
       "      <td>424.000000</td>\n",
       "      <td>70.000000</td>\n",
       "      <td>6.300000e+00</td>\n",
       "      <td>302.400000</td>\n",
       "      <td>25.800000</td>\n",
       "      <td>0.000000</td>\n",
       "    </tr>\n",
       "    <tr>\n",
       "      <th>75%</th>\n",
       "      <td>-13.343600</td>\n",
       "      <td>147.477500</td>\n",
       "      <td>336.700000</td>\n",
       "      <td>1.900000</td>\n",
       "      <td>1.300000</td>\n",
       "      <td>600.000000</td>\n",
       "      <td>86.000000</td>\n",
       "      <td>6.300000e+00</td>\n",
       "      <td>308.600000</td>\n",
       "      <td>52.800000</td>\n",
       "      <td>0.000000</td>\n",
       "    </tr>\n",
       "    <tr>\n",
       "      <th>max</th>\n",
       "      <td>-10.072600</td>\n",
       "      <td>153.490400</td>\n",
       "      <td>504.400000</td>\n",
       "      <td>4.800000</td>\n",
       "      <td>2.000000</td>\n",
       "      <td>2359.000000</td>\n",
       "      <td>100.000000</td>\n",
       "      <td>6.300000e+00</td>\n",
       "      <td>400.100000</td>\n",
       "      <td>3679.500000</td>\n",
       "      <td>3.000000</td>\n",
       "    </tr>\n",
       "  </tbody>\n",
       "</table>\n",
       "</div>"
      ],
      "text/plain": [
       "           latitude     longitude    brightness          scan         track  \\\n",
       "count  36011.000000  36011.000000  36011.000000  36011.000000  36011.000000   \n",
       "mean     -19.100962    138.931446    328.750696      1.620905      1.215281   \n",
       "std        7.265777      9.261400     18.992808      0.813764      0.247852   \n",
       "min      -42.762800    114.104300    300.000000      1.000000      1.000000   \n",
       "25%      -26.370250    131.072250    316.500000      1.100000      1.000000   \n",
       "50%      -15.706500    136.738500    326.400000      1.300000      1.100000   \n",
       "75%      -13.343600    147.477500    336.700000      1.900000      1.300000   \n",
       "max      -10.072600    153.490400    504.400000      4.800000      2.000000   \n",
       "\n",
       "           acq_time    confidence       version    bright_t31           frp  \\\n",
       "count  36011.000000  36011.000000  3.601100e+04  36011.000000  36011.000000   \n",
       "mean     600.025798     67.551387  6.300000e+00    301.339138     51.132176   \n",
       "std      548.369111     23.179946  3.728625e-12      9.724462     92.280112   \n",
       "min        0.000000      0.000000  6.300000e+00    267.000000      0.000000   \n",
       "25%      205.000000     52.000000  6.300000e+00    293.600000     13.800000   \n",
       "50%      424.000000     70.000000  6.300000e+00    302.400000     25.800000   \n",
       "75%      600.000000     86.000000  6.300000e+00    308.600000     52.800000   \n",
       "max     2359.000000    100.000000  6.300000e+00    400.100000   3679.500000   \n",
       "\n",
       "               type  \n",
       "count  36011.000000  \n",
       "mean       0.019439  \n",
       "std        0.198326  \n",
       "min        0.000000  \n",
       "25%        0.000000  \n",
       "50%        0.000000  \n",
       "75%        0.000000  \n",
       "max        3.000000  "
      ]
     },
     "execution_count": 7,
     "metadata": {},
     "output_type": "execute_result"
    }
   ],
   "source": [
    "# no null values found. Summary statistics done on dataset\n",
    "forest.describe()"
   ]
  },
  {
   "cell_type": "code",
   "execution_count": 8,
   "metadata": {},
   "outputs": [
    {
     "ename": "NameError",
     "evalue": "name 'plt' is not defined",
     "output_type": "error",
     "traceback": [
      "\u001b[0;31m---------------------------------------------------------------------------\u001b[0m",
      "\u001b[0;31mNameError\u001b[0m                                 Traceback (most recent call last)",
      "\u001b[0;32m<ipython-input-8-12f5fc8239e6>\u001b[0m in \u001b[0;36m<module>\u001b[0;34m\u001b[0m\n\u001b[0;32m----> 1\u001b[0;31m \u001b[0mplt\u001b[0m\u001b[0;34m.\u001b[0m\u001b[0mfigure\u001b[0m\u001b[0;34m(\u001b[0m\u001b[0mfigsize\u001b[0m\u001b[0;34m=\u001b[0m\u001b[0;34m(\u001b[0m\u001b[0;36m10\u001b[0m\u001b[0;34m,\u001b[0m \u001b[0;36m10\u001b[0m\u001b[0;34m)\u001b[0m\u001b[0;34m)\u001b[0m\u001b[0;34m\u001b[0m\u001b[0;34m\u001b[0m\u001b[0m\n\u001b[0m\u001b[1;32m      2\u001b[0m \u001b[0msns\u001b[0m\u001b[0;34m.\u001b[0m\u001b[0mheatmap\u001b[0m\u001b[0;34m(\u001b[0m\u001b[0mforest\u001b[0m\u001b[0;34m.\u001b[0m\u001b[0mcorr\u001b[0m\u001b[0;34m(\u001b[0m\u001b[0;34m)\u001b[0m\u001b[0;34m,\u001b[0m\u001b[0mannot\u001b[0m\u001b[0;34m=\u001b[0m\u001b[0;32mTrue\u001b[0m\u001b[0;34m,\u001b[0m\u001b[0mcmap\u001b[0m\u001b[0;34m=\u001b[0m\u001b[0;34m'viridis'\u001b[0m\u001b[0;34m,\u001b[0m\u001b[0mlinewidths\u001b[0m\u001b[0;34m=\u001b[0m\u001b[0;36m.5\u001b[0m\u001b[0;34m)\u001b[0m\u001b[0;34m\u001b[0m\u001b[0;34m\u001b[0m\u001b[0m\n",
      "\u001b[0;31mNameError\u001b[0m: name 'plt' is not defined"
     ]
    }
   ],
   "source": [
    "plt.figure(figsize=(10, 10))\n",
    "sns.heatmap(forest.corr(),annot=True,cmap='viridis',linewidths=.5)"
   ]
  },
  {
   "cell_type": "code",
   "execution_count": null,
   "metadata": {},
   "outputs": [],
   "source": []
  }
 ],
 "metadata": {
  "kernelspec": {
   "display_name": "Python 3",
   "language": "python",
   "name": "python3"
  },
  "language_info": {
   "codemirror_mode": {
    "name": "ipython",
    "version": 3
   },
   "file_extension": ".py",
   "mimetype": "text/x-python",
   "name": "python",
   "nbconvert_exporter": "python",
   "pygments_lexer": "ipython3",
   "version": "3.8.5"
  }
 },
 "nbformat": 4,
 "nbformat_minor": 4
}
